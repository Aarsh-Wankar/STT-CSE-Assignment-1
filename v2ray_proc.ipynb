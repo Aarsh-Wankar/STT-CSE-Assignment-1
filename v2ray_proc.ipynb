{
 "cells": [
  {
   "cell_type": "code",
   "execution_count": 1,
   "id": "57dd67ec",
   "metadata": {},
   "outputs": [],
   "source": [
    "from pydriller import Repository\n",
    "import pandas as pd\n",
    "from tqdm import tqdm\n",
    "import subprocess"
   ]
  },
  {
   "cell_type": "code",
   "execution_count": 2,
   "id": "95f6eeef",
   "metadata": {},
   "outputs": [],
   "source": [
    "df = pd.DataFrame(columns=[\"old_path\", \"new_path\", \"commit SHA\", \"parent commit SHA\", \"commit message\", \"diff_myers\", \"diff_hist\"])\n"
   ]
  },
  {
   "cell_type": "code",
   "execution_count": 3,
   "id": "55441ae0",
   "metadata": {},
   "outputs": [
    {
     "name": "stdout",
     "output_type": "stream",
     "text": [
      "Total commits: 5389\n"
     ]
    }
   ],
   "source": [
    "url = \"v2ray-core\"\n",
    "count = 0\n",
    "for commit in Repository(url).traverse_commits():\n",
    "    # print(commit.hash)\n",
    "    count += 1\n",
    "print(f\"Total commits: {count}\")\n"
   ]
  },
  {
   "cell_type": "code",
   "execution_count": 4,
   "id": "92f85c08",
   "metadata": {},
   "outputs": [],
   "source": [
    "total_files = sum(len(commit.modified_files) for commit in Repository(url).traverse_commits())"
   ]
  },
  {
   "cell_type": "code",
   "execution_count": 5,
   "id": "53660eee",
   "metadata": {},
   "outputs": [
    {
     "name": "stdout",
     "output_type": "stream",
     "text": [
      "18637\n"
     ]
    }
   ],
   "source": [
    "print(total_files)"
   ]
  },
  {
   "cell_type": "code",
   "execution_count": 6,
   "id": "8c45caf5",
   "metadata": {},
   "outputs": [],
   "source": [
    "df_list = []"
   ]
  },
  {
   "cell_type": "code",
   "execution_count": 7,
   "id": "6601d09b",
   "metadata": {},
   "outputs": [
    {
     "name": "stderr",
     "output_type": "stream",
     "text": [
      "Processing files: 100%|█████████▉| 18627/18637 [56:12<00:01,  5.52it/s]  \n"
     ]
    }
   ],
   "source": [
    "df_list.clear()  # Clear the list before starting\n",
    "pbar = tqdm(total=total_files, desc=\"Processing files\")\n",
    "repo_local_path = url\n",
    "for commit in Repository(url).traverse_commits():\n",
    "    for file in commit.modified_files:\n",
    "        # Skip files with no parent (initial commit)\n",
    "        if not commit.parents:\n",
    "            continue\n",
    "        parent_sha = commit.parents[0] if commit.parents else None\n",
    "        commit_sha = commit.hash\n",
    "        file_path = file.new_path or file.old_path  # Use whichever is not None\n",
    "\n",
    "        # Construct the git diff commands\n",
    "        cmd_myers = [\n",
    "            'git', 'diff', '--text', '--diff-algorithm=myers', '-w', '--ignore-blank-lines',\n",
    "            parent_sha, commit_sha, '--', file_path\n",
    "        ]\n",
    "        cmd_hist = [\n",
    "            'git', 'diff', '--text', '--diff-algorithm=histogram', '-w', '--ignore-blank-lines',\n",
    "            parent_sha, commit_sha, '--', file_path\n",
    "        ]\n",
    "\n",
    "        # Run the commands and get output\n",
    "        try:\n",
    "            diff_myers = subprocess.check_output(cmd_myers, cwd=repo_local_path).decode('utf-8', errors = 'replace')\n",
    "        except subprocess.CalledProcessError:\n",
    "            diff_myers = \"\"\n",
    "        try:\n",
    "            diff_hist = subprocess.check_output(cmd_hist, cwd=repo_local_path).decode('utf-8', errors = 'replace')\n",
    "        except subprocess.CalledProcessError:\n",
    "            diff_hist = \"\"\n",
    "\n",
    "        df_list.append({\n",
    "            \"old_path\": file.old_path,\n",
    "            \"new_path\": file.new_path,\n",
    "            \"commit_hash\": commit.hash,\n",
    "            \"parents\": commit.parents,\n",
    "            \"msg\": commit.msg,\n",
    "            \"diff_myers\": diff_myers,\n",
    "            \"diff_hist\": diff_hist,\n",
    "        })\n",
    "        pbar.update(1)\n",
    "pbar.close()\n"
   ]
  },
  {
   "cell_type": "code",
   "execution_count": 8,
   "id": "fffc2f8f",
   "metadata": {},
   "outputs": [],
   "source": [
    "df = pd.DataFrame(df_list)"
   ]
  },
  {
   "cell_type": "code",
   "execution_count": 18,
   "id": "9a1bae38",
   "metadata": {},
   "outputs": [],
   "source": [
    "discrepancy_count = 0\n",
    "for i, row in df.iterrows():\n",
    "    if df.loc[i, \"diff_myers\"] == df.loc[i, \"diff_hist\"]:\n",
    "        df.at[i, \"Discrepancy\"] = \"False\"\n",
    "    else:\n",
    "        discrepancy_count += 1\n",
    "        df.at[i, \"Discrepancy\"] = \"True\""
   ]
  },
  {
   "cell_type": "code",
   "execution_count": 19,
   "id": "45b00777",
   "metadata": {},
   "outputs": [],
   "source": [
    "df.to_csv(\"v2ray_proc.csv\", index=False)"
   ]
  },
  {
   "cell_type": "code",
   "execution_count": 20,
   "id": "03bfac34",
   "metadata": {},
   "outputs": [],
   "source": [
    "test_code_df = df[df[\"old_path\"].str.contains(\"test\", case=False, na=False) | df[\"new_path\"].str.contains(\"test\", case=False, na=False)]\n",
    "readme_df = df[df[\"old_path\"].str.contains(\"readme\", case=False, na=False) | df[\"new_path\"].str.contains(\"readme\", case=False, na=False)]\n",
    "license_df = df[df[\"old_path\"].str.contains(\"license\", case=False, na=False) | df[\"new_path\"].str.contains(\"license\", case=False, na=False)]\n",
    "source_df = df[~df.index.isin(test_code_df.index) & ~df.index.isin(readme_df.index) & ~df.index.isin(license_df.index)]"
   ]
  },
  {
   "cell_type": "code",
   "execution_count": 21,
   "id": "4d2f2530",
   "metadata": {},
   "outputs": [
    {
     "name": "stdout",
     "output_type": "stream",
     "text": [
      "15051 source files\n",
      "3422 test files\n",
      "115 readme files\n",
      "39 license files\n"
     ]
    }
   ],
   "source": [
    "print(len(source_df), \"source files\")\n",
    "print(len(test_code_df), \"test files\")\n",
    "print(len(readme_df), \"readme files\")\n",
    "print(len(license_df), \"license files\")"
   ]
  },
  {
   "cell_type": "code",
   "execution_count": 22,
   "id": "50d97928",
   "metadata": {},
   "outputs": [
    {
     "name": "stdout",
     "output_type": "stream",
     "text": [
      "18627\n",
      "744\n"
     ]
    }
   ],
   "source": [
    "print(len(df))\n",
    "print(discrepancy_count)"
   ]
  },
  {
   "cell_type": "code",
   "execution_count": 23,
   "id": "51d8a6a4",
   "metadata": {},
   "outputs": [
    {
     "name": "stdout",
     "output_type": "stream",
     "text": [
      "666 mismatches in source files\n",
      "76 mismatches in test files\n",
      "2 mismatches in readme files\n",
      "0 mismatches in license files\n"
     ]
    }
   ],
   "source": [
    "# Finding mismatches in all possible types:\n",
    "print(len(source_df[source_df[\"Discrepancy\"] == \"True\"]), \"mismatches in source files\")\n",
    "print(len(test_code_df[test_code_df[\"Discrepancy\"] == \"True\"]), \"mismatches in test files\")\n",
    "print(len(readme_df[readme_df[\"Discrepancy\"] == \"True\"]), \"mismatches in readme files\")\n",
    "print(len(license_df[license_df[\"Discrepancy\"] == \"True\"]), \"mismatches in license files\")"
   ]
  },
  {
   "cell_type": "code",
   "execution_count": 25,
   "id": "ff263cf9",
   "metadata": {},
   "outputs": [
    {
     "data": {
      "image/png": "[encoded data removed]",
      "text/plain": [
       "<Figure size 1000x500 with 1 Axes>"
      ]
     },
     "metadata": {},
     "output_type": "display_data"
    }
   ],
   "source": [
    "import matplotlib.pyplot as plt\n",
    "total_counts = [len(source_df), len(test_code_df), len(readme_df), len(license_df)]\n",
    "discrepancy_counts = [len(source_df[source_df[\"Discrepancy\"] == \"True\"]), len(test_code_df[test_code_df[\"Discrepancy\"] == \"True\"]), len(readme_df[readme_df[\"Discrepancy\"] == \"True\"]), len(license_df[license_df[\"Discrepancy\"] == \"True\"])]\n",
    "categories = ['Source', 'Test', 'Readme', 'License']\n",
    "x = range(len(categories))\n",
    "\n",
    "plt.figure(figsize=(10,5))\n",
    "plt.bar(x, [t-d for t, d in zip(total_counts, discrepancy_counts)], width=0.5, label='No Discrepancy')\n",
    "plt.bar(x, discrepancy_counts, width=0.5, bottom=[t-d for t, d in zip(total_counts, discrepancy_counts)], label='Discrepancy')\n",
    "\n",
    "for i in x:\n",
    "    plt.text(i, total_counts[i]+0.5, str(total_counts[i]), ha='center', va='bottom', fontweight='bold')\n",
    "    # if discrepancy_counts[i] > 0:\n",
    "        # plt.text(i, total_counts[i]-discrepancy_counts[i]/2, str(discrepancy_counts[i]), ha='center', va='center', color='white', fontweight='bold')\n",
    "\n",
    "# Add textbox on the right\n",
    "discrepancy_text = \"\\n\".join([f\"{cat}: {count}\" for cat, count in zip(categories, discrepancy_counts)])\n",
    "plt.gca().text(1.05, 0.5, f\"Discrepancy Counts:\\n{discrepancy_text}\", transform=plt.gca().transAxes,\n",
    "               fontsize=12, verticalalignment='center', bbox=dict(facecolor='white', edgecolor='black'))\n",
    "\n",
    "plt.xticks(x, categories)\n",
    "plt.ylabel('Count')\n",
    "plt.title('File Type Counts and Discrepancies in v2ray-core')\n",
    "plt.legend()\n",
    "plt.tight_layout()\n",
    "plt.show()\n"
   ]
  },
  {
   "cell_type": "code",
   "execution_count": 14,
   "id": "f07b1369",
   "metadata": {},
   "outputs": [],
   "source": [
    "trucount = 0\n",
    "falsecount = 0\n",
    "for i, row in df.iterrows():\n",
    "    if df.loc[i, \"diff_myers\"] == df.loc[i, \"diff_hist\"]:\n",
    "        trucount += 1\n",
    "        df.at[i, \"Discrepancy\"] = \"False\"\n",
    "    else:\n",
    "        falsecount += 1\n",
    "        df.at[i, \"Discrepancy\"] = \"True\""
   ]
  },
  {
   "cell_type": "code",
   "execution_count": 15,
   "id": "9cd62782",
   "metadata": {},
   "outputs": [
    {
     "name": "stdout",
     "output_type": "stream",
     "text": [
      "17883 744\n"
     ]
    }
   ],
   "source": [
    "print(trucount, falsecount)"
   ]
  },
  {
   "cell_type": "code",
   "execution_count": null,
   "id": "bdd6ffcd",
   "metadata": {},
   "outputs": [],
   "source": [
    "df.to_csv(\"v2ray_proc.csv\", index=False)"
   ]
  }
 ],
 "metadata": {
  "kernelspec": {
   "display_name": ".venv",
   "language": "python",
   "name": "python3"
  },
  "language_info": {
   "codemirror_mode": {
    "name": "ipython",
    "version": 3
   },
   "file_extension": ".py",
   "mimetype": "text/x-python",
   "name": "python",
   "nbconvert_exporter": "python",
   "pygments_lexer": "ipython3",
   "version": "3.12.1"
  }
 },
 "nbformat": 4,
 "nbformat_minor": 5
}
