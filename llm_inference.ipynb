{
 "cells": [
  {
   "cell_type": "code",
   "execution_count": 2,
   "id": "4f4f9b7f",
   "metadata": {},
   "outputs": [
    {
     "data": {
      "text/plain": [
       "True"
      ]
     },
     "execution_count": 2,
     "metadata": {},
     "output_type": "execute_result"
    }
   ],
   "source": [
    "from pydriller import Repository\n",
    "import pandas as pd\n",
    "import re\n",
    "from dotenv import load_dotenv\n",
    "import os\n",
    "from tqdm import tqdm\n",
    "\n",
    "load_dotenv()"
   ]
  },
  {
   "cell_type": "code",
   "execution_count": 3,
   "id": "a33daafa",
   "metadata": {},
   "outputs": [],
   "source": [
    "lst = []\n",
    "for commit in Repository('manim').traverse_commits():\n",
    "    if(\"bug\" in commit.msg.lower()):\n",
    "        lst.append(commit)"
   ]
  },
  {
   "cell_type": "code",
   "execution_count": 4,
   "id": "2db19c72",
   "metadata": {},
   "outputs": [
    {
     "name": "stdout",
     "output_type": "stream",
     "text": [
      "309\n"
     ]
    }
   ],
   "source": [
    "print(len(lst))"
   ]
  },
  {
   "cell_type": "code",
   "execution_count": 5,
   "id": "fed3d8ab",
   "metadata": {},
   "outputs": [
    {
     "name": "stderr",
     "output_type": "stream",
     "text": [
      "100%|██████████| 309/309 [00:18<00:00, 17.14it/s]"
     ]
    },
    {
     "name": "stdout",
     "output_type": "stream",
     "text": [
      "Total number of modified files:  1250\n",
      "Total number of commits containing 'bug':  309\n"
     ]
    },
    {
     "name": "stderr",
     "output_type": "stream",
     "text": [
      "\n"
     ]
    }
   ],
   "source": [
    "count = 0\n",
    "for commit in tqdm(lst):\n",
    "    count += len(commit.modified_files)\n",
    "print(\"Total number of modified files: \", count)\n",
    "print(\"Total number of commits containing 'bug': \", len(lst))"
   ]
  },
  {
   "cell_type": "code",
   "execution_count": 6,
   "id": "84341b76",
   "metadata": {},
   "outputs": [],
   "source": [
    "def get_file_diffs(commit):\n",
    "    diffs = []\n",
    "    for file in commit.modified_files:\n",
    "        diffs.append(file.diff)\n",
    "    return diffs\n",
    "\n",
    "def parse_files(patch):\n",
    "    accumulator = []\n",
    "    for line in patch.splitlines():\n",
    "        if line.startswith((\"index\", \"diff\")):\n",
    "            continue\n",
    "        if line.startswith(\"---\"):\n",
    "            filename_before = line.split(\" \", 1)[1][1:]\n",
    "            continue\n",
    "        if line.startswith(\"+++\"):\n",
    "            filename_after = line.split(\" \", 1)[1][1:]\n",
    "            if filename_before == filename_after:\n",
    "                accumulator.append(f\"<ide><path>{filename_before}\")\n",
    "            else:\n",
    "                accumulator.append(f\"<add><path>{filename_after}\")\n",
    "                accumulator.append(f\"<del><path>{filename_before}\")\n",
    "            continue\n",
    "        line = re.sub(\"@@[^@@]*@@\", \"\", line)\n",
    "        if not line:\n",
    "            continue\n",
    "        if line.startswith(\"+\"):\n",
    "            line = line.replace(\"+\", \"<add>\", 1)\n",
    "        elif line.startswith(\"-\"):\n",
    "            line = line.replace(\"-\", \"<del>\", 1)\n",
    "        else:\n",
    "            line = f\"<ide>{line}\"\n",
    "        accumulator.append(line)\n",
    "    return \"\\n\".join(accumulator)\n"
   ]
  },
  {
   "cell_type": "code",
   "execution_count": 7,
   "id": "c2fa6c4f",
   "metadata": {},
   "outputs": [
    {
     "name": "stderr",
     "output_type": "stream",
     "text": [
      "c:\\Users\\Rajeev Wankar\\Desktop\\Aarsh IITGN\\Semester_5\\STT-CSE\\LAB_2\\venv\\Lib\\site-packages\\tqdm\\auto.py:21: TqdmWarning: IProgress not found. Please update jupyter and ipywidgets. See https://ipywidgets.readthedocs.io/en/stable/user_install.html\n",
      "  from .autonotebook import tqdm as notebook_tqdm\n"
     ]
    }
   ],
   "source": [
    "# Load model directly\n",
    "from transformers import AutoTokenizer, AutoModelForSeq2SeqLM\n",
    "\n",
    "tokenizer = AutoTokenizer.from_pretrained(\"mamiksik/CommitPredictorT5\")\n",
    "model = AutoModelForSeq2SeqLM.from_pretrained(\"mamiksik/CommitPredictorT5\")"
   ]
  },
  {
   "cell_type": "code",
   "execution_count": 8,
   "id": "61d514da",
   "metadata": {},
   "outputs": [],
   "source": [
    "def get_commit_prediction(input_text):\n",
    "    inputs = tokenizer(input_text, return_tensors=\"pt\", truncation=True)\n",
    "    # print(inputs)\n",
    "    outputs = model.generate(**inputs, max_length=50, num_beams=10, early_stopping=True)\n",
    "    predicted_commit_msg = tokenizer.decode(outputs[0], skip_special_tokens=True)\n",
    "    return predicted_commit_msg"
   ]
  },
  {
   "cell_type": "code",
   "execution_count": 11,
   "id": "05b3d5fc",
   "metadata": {},
   "outputs": [
    {
     "name": "stderr",
     "output_type": "stream",
     "text": [
      "100%|██████████| 1250/1250 [1:12:32<00:00,  3.48s/it]\n"
     ]
    }
   ],
   "source": [
    "total_files = sum(len(commit.modified_files) for commit in lst)\n",
    "rows = []\n",
    "with tqdm(total=total_files) as pbar:\n",
    "    for commit in lst:\n",
    "        og_message = commit.msg\n",
    "        for file in commit.modified_files:\n",
    "            try:\n",
    "                diff = parse_files(file.diff)\n",
    "            except Exception as e:\n",
    "                pbar.update(1)\n",
    "                continue\n",
    "            llm_pred = get_commit_prediction(diff)\n",
    "            rows.append({\n",
    "                \"hash\": commit.hash,\n",
    "                \"date\": commit.committer_date,\n",
    "                \"original_message\": og_message,\n",
    "                \"file_name\": file.filename,\n",
    "                \"prev_source_code\": file.content_before,\n",
    "                \"cur_source_code\": file.content,\n",
    "                \"diff\": diff,\n",
    "                \"llm_commit_inference\": llm_pred,\n",
    "                \"rectified_message\": \"\"\n",
    "            })\n",
    "            pbar.update(1)\n",
    "files_df = pd.DataFrame(rows)\n"
   ]
  },
  {
   "cell_type": "code",
   "execution_count": 12,
   "id": "b93a68f1",
   "metadata": {},
   "outputs": [],
   "source": [
    "files_df.to_csv(\"files_df.csv\", index=False)"
   ]
  },
  {
   "cell_type": "code",
   "execution_count": 14,
   "id": "9a25b62b",
   "metadata": {},
   "outputs": [
    {
     "name": "stdout",
     "output_type": "stream",
     "text": [
      "1247\n"
     ]
    }
   ],
   "source": [
    "print(len(files_df))"
   ]
  },
  {
   "cell_type": "code",
   "execution_count": 15,
   "id": "ec933cb0",
   "metadata": {},
   "outputs": [
    {
     "data": {
      "text/html": [
       "<div>\n",
       "<style scoped>\n",
       "    .dataframe tbody tr th:only-of-type {\n",
       "        vertical-align: middle;\n",
       "    }\n",
       "\n",
       "    .dataframe tbody tr th {\n",
       "        vertical-align: top;\n",
       "    }\n",
       "\n",
       "    .dataframe thead th {\n",
       "        text-align: right;\n",
       "    }\n",
       "</style>\n",
       "<table border=\"1\" class=\"dataframe\">\n",
       "  <thead>\n",
       "    <tr style=\"text-align: right;\">\n",
       "      <th></th>\n",
       "      <th>original_message</th>\n",
       "      <th>llm_commit_inference</th>\n",
       "    </tr>\n",
       "  </thead>\n",
       "  <tbody>\n",
       "    <tr>\n",
       "      <th>0</th>\n",
       "      <td>quick rgb-should-be-numpy-array bug fix</td>\n",
       "      <td>fix mobject.fade_to for numpy arrays</td>\n",
       "    </tr>\n",
       "    <tr>\n",
       "      <th>1</th>\n",
       "      <td>Slightly faster sort_points method, and bug fi...</td>\n",
       "      <td>update mobjects.py</td>\n",
       "    </tr>\n",
       "    <tr>\n",
       "      <th>2</th>\n",
       "      <td>Bug fix to bug fix on Mobject.fade method</td>\n",
       "      <td>fix typo in mobjects.py</td>\n",
       "    </tr>\n",
       "    <tr>\n",
       "      <th>3</th>\n",
       "      <td>Bug in Arrow buffer</td>\n",
       "      <td>update line.py</td>\n",
       "    </tr>\n",
       "    <tr>\n",
       "      <th>4</th>\n",
       "      <td>Small bug in how displayer had been refactored</td>\n",
       "      <td>fix bug in place_on_screen</td>\n",
       "    </tr>\n",
       "    <tr>\n",
       "      <th>5</th>\n",
       "      <td>Couple scene bug fixes</td>\n",
       "      <td>update scene.py</td>\n",
       "    </tr>\n",
       "  </tbody>\n",
       "</table>\n",
       "</div>"
      ],
      "text/plain": [
       "                                    original_message  \\\n",
       "0            quick rgb-should-be-numpy-array bug fix   \n",
       "1  Slightly faster sort_points method, and bug fi...   \n",
       "2          Bug fix to bug fix on Mobject.fade method   \n",
       "3                                Bug in Arrow buffer   \n",
       "4     Small bug in how displayer had been refactored   \n",
       "5                             Couple scene bug fixes   \n",
       "\n",
       "                   llm_commit_inference  \n",
       "0  fix mobject.fade_to for numpy arrays  \n",
       "1                    update mobjects.py  \n",
       "2               fix typo in mobjects.py  \n",
       "3                        update line.py  \n",
       "4            fix bug in place_on_screen  \n",
       "5                       update scene.py  "
      ]
     },
     "execution_count": 15,
     "metadata": {},
     "output_type": "execute_result"
    }
   ],
   "source": [
    "(files_df.loc[0:5, [\"original_message\", \"llm_commit_inference\"]])"
   ]
  },
  {
   "cell_type": "code",
   "execution_count": 16,
   "id": "b6990f9b",
   "metadata": {},
   "outputs": [],
   "source": [
    "commit_df = pd.DataFrame(columns=[\"Hash\", \"Message\", \"Parent Hashes\", \"Is Merge Commit\", \"Modified Files\"])\n",
    "df_list = []\n",
    "for commit in lst:\n",
    "    df_list.append({\n",
    "        \"Hash\": commit.hash,\n",
    "        \"Message\": commit.msg,\n",
    "        \"Parent Hashes\": [parent for parent in commit.parents],\n",
    "        \"Is Merge Commit\": commit.merge,\n",
    "        \"Modified Files\": [mod_file.filename for mod_file in commit.modified_files]\n",
    "    })\n",
    "\n",
    "commit_df = pd.DataFrame(df_list)\n",
    "commit_df.to_csv(\"commit_df.csv\", index=False)"
   ]
  }
 ],
 "metadata": {
  "kernelspec": {
   "display_name": "venv",
   "language": "python",
   "name": "python3"
  },
  "language_info": {
   "codemirror_mode": {
    "name": "ipython",
    "version": 3
   },
   "file_extension": ".py",
   "mimetype": "text/x-python",
   "name": "python",
   "nbconvert_exporter": "python",
   "pygments_lexer": "ipython3",
   "version": "3.12.8"
  }
 },
 "nbformat": 4,
 "nbformat_minor": 5
}
